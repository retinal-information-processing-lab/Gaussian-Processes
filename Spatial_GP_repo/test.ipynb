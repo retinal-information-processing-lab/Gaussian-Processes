{
 "cells": [
  {
   "cell_type": "markdown",
   "metadata": {},
   "source": []
  },
  {
   "cell_type": "code",
   "execution_count": 22,
   "metadata": {},
   "outputs": [
    {
     "name": "stdout",
     "output_type": "stream",
     "text": [
      "tensor([[10, 20, 30],\n",
      "        [20, 40, 60]])\n",
      "tensor([[ 100,  400,  900],\n",
      "        [ 200,  800, 1800]])\n"
     ]
    },
    {
     "data": {
      "text/plain": [
       "tensor([359.1342])"
      ]
     },
     "execution_count": 22,
     "metadata": {},
     "output_type": "execute_result"
    }
   ],
   "source": [
    "import torch\n",
    "\n",
    "# Tensor of shape (r, nstar)\n",
    "\n",
    "rsigma2 = torch.outer(torch.tensor([1, 2,] ), torch.tensor([10, 20, 30]))\n",
    "print(rsigma2)\n",
    "\n",
    "\n",
    "# Vector of shape (nstar,)\n",
    "sigma2 = torch.tensor([10, 20, 30])   # Shape: (3,)\n",
    "\n",
    "# Multiply each column by the corresponding element in sigma2\n",
    "result = rsigma2 * sigma2\n",
    "\n",
    "print(result)\n",
    "\n",
    "\n",
    "torch.lgamma(torch.tensor([100]))\n",
    "\n",
    "\n"
   ]
  },
  {
   "cell_type": "code",
   "execution_count": 20,
   "metadata": {},
   "outputs": [
    {
     "ename": "TypeError",
     "evalue": "loop of ufunc does not support argument 0 of type int which has no callable log method",
     "output_type": "error",
     "traceback": [
      "\u001b[0;31m---------------------------------------------------------------------------\u001b[0m",
      "\u001b[0;31mAttributeError\u001b[0m                            Traceback (most recent call last)",
      "\u001b[0;31mAttributeError\u001b[0m: 'int' object has no attribute 'log'",
      "\nThe above exception was the direct cause of the following exception:\n",
      "\u001b[0;31mTypeError\u001b[0m                                 Traceback (most recent call last)",
      "Cell \u001b[0;32mIn[20], line 5\u001b[0m\n\u001b[1;32m      2\u001b[0m \u001b[38;5;28;01mimport\u001b[39;00m \u001b[38;5;21;01mmath\u001b[39;00m\n\u001b[1;32m      4\u001b[0m math\u001b[38;5;241m.\u001b[39mfactorial(\u001b[38;5;241m50\u001b[39m)\n\u001b[0;32m----> 5\u001b[0m np\u001b[38;5;241m.\u001b[39mlog(\u001b[38;5;241m3041409320171337804361260816606476\u001b[39m)\n",
      "\u001b[0;31mTypeError\u001b[0m: loop of ufunc does not support argument 0 of type int which has no callable log method"
     ]
    }
   ],
   "source": [
    "import numpy as np\n",
    "import math\n",
    "\n",
    "math.factorial(50)\n",
    "np.log(3041409320171337804361260816606476)"
   ]
  }
 ],
 "metadata": {
  "kernelspec": {
   "display_name": "pytorch",
   "language": "python",
   "name": "python3"
  },
  "language_info": {
   "codemirror_mode": {
    "name": "ipython",
    "version": 3
   },
   "file_extension": ".py",
   "mimetype": "text/x-python",
   "name": "python",
   "nbconvert_exporter": "python",
   "pygments_lexer": "ipython3",
   "version": "3.11.5"
  }
 },
 "nbformat": 4,
 "nbformat_minor": 2
}
